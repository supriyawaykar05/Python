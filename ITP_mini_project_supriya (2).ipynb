{
 "cells": [
  {
   "cell_type": "markdown",
   "metadata": {},
   "source": [
    "# <center>PGP Data Science Engineering</center>\n",
    "## <center>Introduction to Programming – Mini Project:</center>\n"
   ]
  },
  {
   "cell_type": "markdown",
   "metadata": {},
   "source": [
    "### Problem 1:\n",
    "\n",
    "1. Write a program to calculate area of shapes. Your program should be capable of calculating the area of a square, rectangle, triangle and a circle. The user should be presented with options to select the shape. Based on which shape is chosed by the user, the program should ask for the appropriate input and print the resulting area on the screen.\n",
    "\n",
    "When the program is run, the screen should display something like this:\n",
    "\n",
    "**Which shape would you like to calculate the area for? Please enter the option number-**<br>\n",
    "**1. Square**<br>\n",
    "**2. Rectangle**<br>\n",
    "**3. Triangle**<br>\n",
    "**4. Circle**<br>\n",
    "**Enter Option: _**\n",
    "\n",
    "Say the user enters the option 1.\n",
    "\n",
    "**Please enter the length of a side: _**\n",
    "\n",
    "If the user enters a value of 5. The output should be:\n",
    "\n",
    "**The area of the square is 25**\n",
    "\n",
    "This program should indicate that the input is invalid if the user enters a character instead of a number as input. For instance if the user enters a value of ‘a’ instead of 5 in the previous example the program should prompt:\n",
    "\n",
    "**Invalid input, please enter a number: _**\n"
   ]
  },
  {
   "cell_type": "code",
   "execution_count": 7,
   "metadata": {},
   "outputs": [
    {
     "name": "stdout",
     "output_type": "stream",
     "text": [
      "Which shape would you like to calculate the area for? Please enter the option number-\n",
      "\n",
      " 1. Square \n",
      " 2. Rectangle \n",
      " 3. Triangle \n",
      " 4. Circle \n",
      "\n",
      "Enter option:3\n",
      "Calculate area of Triangle\n",
      "Enter length of Triangle:6.8\n",
      "Enter weight of Triangle:8.9\n",
      "The area of Triangle is: 30.26\n"
     ]
    }
   ],
   "source": [
    "import math\n",
    "print(\"Which shape would you like to calculate the area for? Please enter the option number-\")\n",
    "print(\"\\n 1. Square\",\"\\n 2. Rectangle\",\"\\n 3. Triangle\",\"\\n 4. Circle\",\"\\n\")\n",
    "ch=input(\"Enter option:\")\n",
    "if(ch=='1'):\n",
    "    print(\"Calculate area of Square\")\n",
    "    x=input(\"Please enter length of side:\")\n",
    "    x1=x.replace('.', '', 1)\n",
    "    if x.isdigit() or x1.isdigit():\n",
    "        x=float(x)\n",
    "        area=x*x\n",
    "        print(\"The area of square is:\",area)\n",
    "    else:\n",
    "        print(\"Invalid input please enter valid number\")\n",
    "elif(ch=='2'):\n",
    "    print(\"Calculate area of Rectangle\")\n",
    "    length=input(\"Enter length of rectangle:\")\n",
    "    width=input(\"Enter weight of rectangle:\")\n",
    "    length1=length.replace('.', '', 1)\n",
    "    width1=width.replace('.', '', 1)\n",
    "    if length.isdigit() or length1.isdigit() and width.isdigit() or width1.isdigit():\n",
    "        length=float(length)\n",
    "        width=float(width)\n",
    "        area=length*width\n",
    "        print(\"The area of Rectangle is:\",area)\n",
    "    else:\n",
    "        print(\"Invalid input please enter valid number\")\n",
    "elif(ch=='3'):\n",
    "    print(\"Calculate area of Triangle\")\n",
    "    base=input(\"Enter length of Triangle:\")\n",
    "    height=input(\"Enter weight of Triangle:\")\n",
    "    base1=base.replace('.', '', 1)\n",
    "    height1=height.replace('.', '', 1)  \n",
    "    if height.isdigit() or height1.isdigit() and base1.isdigit() or base.isdigit():\n",
    "        base=float(base)\n",
    "        height=float(height)\n",
    "        area=(base*height)/2\n",
    "        print(\"The area of Triangle is:\",area)\n",
    "    else:\n",
    "        print(\"Invalid input please enter valid number\")\n",
    "elif(ch=='4'):\n",
    "    print(\"Calculate area of Circle\")\n",
    "    rad=input(\"Enter radius of Circle:\")\n",
    "    rad1=rad.replace('.', '', 1)\n",
    "    if rad.isdigit() or rad1.isdigit():\n",
    "        rad=float(rad)   \n",
    "        area=math.pi*rad*rad\n",
    "        print(\"The area of Circle is:\",area)\n",
    "    else:\n",
    "        print(\"Invalid input please enter valid number\")\n",
    "else:\n",
    "    print(\"Your choice is not valid...You are exit\")\n",
    "    \n",
    "\n"
   ]
  },
  {
   "cell_type": "markdown",
   "metadata": {},
   "source": [
    "### Problem 2:\n",
    "\n",
    "Create and encrypter in python based on the ceaser cipher. It is a substitution cipher where each character of the original text is shifted a certain number characters in the alphabet. Write a function that would require 2 arguments – the input text to be encrypted and a key. For eg: Given the input text ‘hello’ and the key 3, the resulting encryted text would be ‘khoor’. Here you can see that every character in the string hello is shifted by 3 characters. ‘h’ has shifted to ‘k’, ‘e’ has shifted to ‘h’ and so on. If a key of 5 were used, the resulting string would be ‘mjqqt’. This function should be capable of ignoring any characters which are not alphabets. Th2 character ‘z’ entered b\n",
    "y the user for a key of 3 would result in ‘c’.\n",
    "\n",
    "Usage:<br>\n",
    "**encrypt(‘hello world!’, 3)**<br>\n",
    "**‘khoor zruog!’**\n",
    "\n",
    "Similarly create decrypter which can decode the encryted text when provided the input text and key\n",
    "\n",
    "Usage:<br>\n",
    "**decrypt(‘khoor zruog!’, 3)**<br>\n",
    "**‘hello world!’**\n",
    "\n",
    "For the sake of simplicity you can assume that input solely consists of lowercase alphabets, spaces and punctuation symbols. Numbers in the input text would also be ignored similar to symbols."
   ]
  },
  {
   "cell_type": "code",
   "execution_count": 5,
   "metadata": {},
   "outputs": [
    {
     "name": "stdout",
     "output_type": "stream",
     "text": [
      "Enter the string which is to be encrypted:hello world!\n",
      "Enter the key:3\n",
      "Text  :  hello world!\n",
      "Shift :  3\n",
      "Encryption:  khoor zruog!\n",
      "Decrytion:  hello world!\n"
     ]
    }
   ],
   "source": [
    "def encrypt(text,key):\n",
    "    b=\"\"\n",
    "    for i in text:\n",
    "        if i.isalpha()==True:\n",
    "            c=ord(i)\n",
    "            d=c+key\n",
    "            if d<=(122):\n",
    "                b=b+chr(d) \n",
    "            elif d>122:\n",
    "                a=122-c\n",
    "                x=key-a\n",
    "                b=b+chr(96+x)\n",
    "        else:\n",
    "            b=b+i\n",
    "    return b\n",
    "#Print(\"*************************************************\")\n",
    "def decrypt(text,key):\n",
    "    b=\"\"\n",
    "    for i in text:\n",
    "        if i.isalpha()==True:\n",
    "            c=ord(i)\n",
    "            d=c-key\n",
    "            if d<=97: \n",
    "                j=c-97\n",
    "                g=key-j\n",
    "                t=123-g\n",
    "                b=b+chr(t)\n",
    "            elif d<=(122):               \n",
    "                    b=b+chr(d)           \n",
    "        else:\n",
    "            b=b+i\n",
    "    return b\n",
    "text=input(\"Enter the string which is to be encrypted:\")\n",
    "key=int(input(\"Enter the key:\"))\n",
    "print(\"Text  : \" ,text)\n",
    "print(\"Shift : \",key) \n",
    "encrypted_text=encrypt(text,key)\n",
    "print(\"Encryption: \",encrypted_text)\n",
    "decrypted_text=decrypt(encrypted_text,key) \n",
    "print(\"Decrytion: \",decrypted_text)"
   ]
  }
 ],
 "metadata": {
  "kernelspec": {
   "display_name": "Python 3",
   "language": "python",
   "name": "python3"
  },
  "language_info": {
   "codemirror_mode": {
    "name": "ipython",
    "version": 3
   },
   "file_extension": ".py",
   "mimetype": "text/x-python",
   "name": "python",
   "nbconvert_exporter": "python",
   "pygments_lexer": "ipython3",
   "version": "3.7.6"
  }
 },
 "nbformat": 4,
 "nbformat_minor": 2
}
